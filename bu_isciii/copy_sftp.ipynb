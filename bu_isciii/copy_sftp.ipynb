{
 "cells": [
  {
   "cell_type": "code",
   "execution_count": 30,
   "id": "fbf90ccd",
   "metadata": {},
   "outputs": [
    {
     "data": {
      "text/plain": [
       "CompletedProcess(args='rsync -r /home/erika.kvalem/Documents/BU_ISCIII/pruebas_source/ /home/erika.kvalem/Documents/BU_ISCIII/prubas_destination', returncode=0)"
      ]
     },
     "execution_count": 30,
     "metadata": {},
     "output_type": "execute_result"
    }
   ],
   "source": [
    "import sysrsync\n",
    "\n",
    "sysrsync.run(source='/home/erika.kvalem/Documents/BU_ISCIII/pruebas_source',\n",
    "             destination='/home/erika.kvalem/Documents/BU_ISCIII/prubas_destination',\n",
    "             #destination_ssh='myserver',\n",
    "             options=['-r'])#,\n",
    "             #exclusions=['file_to_exclude', 'unwanted_file'])"
   ]
  },
  {
   "cell_type": "code",
   "execution_count": null,
   "id": "ae16ba8f",
   "metadata": {},
   "outputs": [],
   "source": []
  }
 ],
 "metadata": {
  "kernelspec": {
   "display_name": "Python 3",
   "language": "python",
   "name": "python3"
  },
  "language_info": {
   "codemirror_mode": {
    "name": "ipython",
    "version": 3
   },
   "file_extension": ".py",
   "mimetype": "text/x-python",
   "name": "python",
   "nbconvert_exporter": "python",
   "pygments_lexer": "ipython3",
   "version": "3.9.5"
  }
 },
 "nbformat": 4,
 "nbformat_minor": 5
}
